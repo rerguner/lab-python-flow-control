{
 "cells": [
  {
   "cell_type": "markdown",
   "id": "d3bfc191-8885-42ee-b0a0-bbab867c6f9f",
   "metadata": {
    "tags": []
   },
   "source": [
    "# Lab | Flow Control"
   ]
  },
  {
   "cell_type": "markdown",
   "id": "3851fcd1-cf98-4653-9c89-e003b7ec9400",
   "metadata": {},
   "source": [
    "## Exercise: Managing Customer Orders Optimized\n",
    "\n",
    "In the last lab, you were starting an online store that sells various products. To ensure smooth operations, you developed a program that manages customer orders and inventory.\n",
    "\n",
    "You did so without using flow control. Let's go a step further and improve this code.\n",
    "\n",
    "Follow the steps below to complete the exercise:\n",
    "\n",
    "1. Look at your code from the lab data structures, and improve repeated code with loops.\n",
    "\n",
    "2. Instead of asking the user to input the name of three products that a customer wants to order, do the following:\n",
    "    \n",
    "    a. Prompt the user to enter the name of a product that a customer wants to order.\n",
    "    \n",
    "    b. Add the product name to the \"customer_orders\" set.\n",
    "    \n",
    "    c. Ask the user if they want to add another product (yes/no).\n",
    "    \n",
    "    d. Continue the loop until the user does not want to add another product.\n",
    "\n",
    "3. Instead of updating the inventory by subtracting 1 from the quantity of each product, only do it for  the products that were ordered (those in \"customer_orders\")."
   ]
  },
  {
   "cell_type": "code",
   "execution_count": 6,
   "id": "1b691a85",
   "metadata": {},
   "outputs": [
    {
     "name": "stdout",
     "output_type": "stream",
     "text": [
      "Available Inventory:\n",
      "t-shirt: 1\n",
      "mug: 1\n",
      "hat: 1\n",
      "book: 1\n",
      "keychain: 1\n",
      "Customer Order: {'mug', 'book'}\n",
      "Updated Inventory After Customer Order:\n",
      "t-shirt: 1\n",
      "mug: 0\n",
      "hat: 1\n",
      "book: 0\n",
      "keychain: 1\n"
     ]
    }
   ],
   "source": [
    "# Define a list called `products` that contains the following items: \"t-shirt\", \"mug\", \"hat\", \"book\", \"keychain\".\n",
    "# Create an empty dictionary called `inventory`.\n",
    "products = ['t-shirt', 'mug', 'hat', 'book', 'keychain']\n",
    "inventory = {}\n",
    "\n",
    "# Use the product names from the `products` list as keys in the `inventory` dictionary and assign the respective quantities as values.\n",
    "\n",
    "for product in products:\n",
    "    inventory[product] = int(input(f\"Enter {product.upper()} Quantity in Stock: \"))\n",
    "total_inventory = sum(inventory.values())\n",
    "\n",
    "#Create an empty set called `customer_orders`.\n",
    "customer_orders = set()\n",
    "\n",
    "\n",
    "# Print available inventory for customer to choose the products.\n",
    "print(f\"Available Inventory:\")\n",
    "for product, quantity in inventory.items():\n",
    "    print(f\"{product}: {quantity}\")\n",
    "\n",
    "# Prompt the user to enter the name of a product that a customer wants to order.\n",
    "# Add each product name to the `customer_orders` set.\n",
    "# Ask the user if they want to add another product (yes/no).\n",
    "# Continue the loop until the user does not want to add another product.\n",
    "\n",
    "order_flag = True\n",
    "while order_flag:\n",
    "    product_name = input(f\"Enter Product Name You want to order: \")\n",
    "    customer_orders.add(product_name)\n",
    "    customer_selection = input(\"Do you want to add another item (Yes/No)? : \").lstrip()\n",
    "    if customer_selection == \"Yes\":\n",
    "            order_flag = True\n",
    "    else:\n",
    "        order_flag = False\n",
    "\n",
    "#Print the products in the `customer_orders` set.\n",
    "print(f\"Customer Order: {customer_orders}\")\n",
    "\n",
    "#Store these statistics in a tuple called `order_status`\n",
    "order_status = (total_products_ordered, percentage_of_products_ordered)\n",
    "\n",
    "#Update the inventory by subtracting 1 from the quantity of each product. Modify the `inventory` dictionary accordingly.\n",
    "for product in customer_orders:\n",
    "    inventory[product] -= 1\n",
    "\n",
    "#Print the updated inventory, displaying the quantity of each product on separate lines.\n",
    "print(\"Updated Inventory After Customer Order:\")\n",
    "for product, quantity in inventory.items():\n",
    "    print(f\"{product}: {quantity}\")\n",
    "\n",
    "\n",
    "\n"
   ]
  },
  {
   "cell_type": "code",
   "execution_count": null,
   "id": "c15c6581",
   "metadata": {},
   "outputs": [],
   "source": []
  }
 ],
 "metadata": {
  "kernelspec": {
   "display_name": "base",
   "language": "python",
   "name": "python3"
  },
  "language_info": {
   "codemirror_mode": {
    "name": "ipython",
    "version": 3
   },
   "file_extension": ".py",
   "mimetype": "text/x-python",
   "name": "python",
   "nbconvert_exporter": "python",
   "pygments_lexer": "ipython3",
   "version": "3.12.7"
  }
 },
 "nbformat": 4,
 "nbformat_minor": 5
}
